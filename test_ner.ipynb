{
 "cells": [
  {
   "cell_type": "code",
   "execution_count": 17,
   "id": "1ebaf996",
   "metadata": {},
   "outputs": [],
   "source": [
    "import spacy\n",
    "import json\n",
    "from sklearn.metrics import precision_score, recall_score, f1_score, classification_report as clf_report_sklearn\n",
    "from spacy.training.example import Example\n",
    "from seqeval.metrics import classification_report as seqeval_classification_report"
   ]
  },
  {
   "cell_type": "code",
   "execution_count": 18,
   "id": "97f20fa3",
   "metadata": {},
   "outputs": [
    {
     "name": "stdout",
     "output_type": "stream",
     "text": [
      "Model berhasil dimuat.\n"
     ]
    }
   ],
   "source": [
    "# Load model yang sudah dilatih\n",
    "model_path = \"models5/model_iter40\"\n",
    "nlp = spacy.load(model_path)\n",
    "print(\"Model berhasil dimuat.\")"
   ]
  },
  {
   "cell_type": "code",
   "execution_count": 19,
   "id": "28b1e2c5",
   "metadata": {},
   "outputs": [],
   "source": [
    "# 2. Load data test\n",
    "with open(\"data_test.json\", \"r\", encoding=\"utf-8\") as f:\n",
    "    data_json = json.load(f)\n",
    "    TEST_DATA = data_json[\"annotations\"]"
   ]
  },
  {
   "cell_type": "code",
   "execution_count": 20,
   "id": "05ade4d9",
   "metadata": {},
   "outputs": [
    {
     "name": "stdout",
     "output_type": "stream",
     "text": [
      "\n",
      "=== [Pendekatan 1] BIO Tagging dengan Seqeval ===\n",
      "              precision    recall  f1-score   support\n",
      "\n",
      "         APP       0.89      0.87      0.88       357\n",
      "        DESC       0.88      0.75      0.81       142\n",
      "\n",
      "   micro avg       0.89      0.84      0.86       499\n",
      "   macro avg       0.88      0.81      0.85       499\n",
      "weighted avg       0.89      0.84      0.86       499\n",
      "\n",
      "\n",
      "=== [Pendekatan 2] Span-level Evaluation ===\n",
      "Precision: 0.89\n",
      "Recall   : 0.84\n",
      "F1 Score : 0.86\n"
     ]
    }
   ],
   "source": [
    "# Pendekatan 1: BIO tagging (Token-level) - SEQEVAL\n",
    "true_entities_list = []\n",
    "pred_entities_list = []\n",
    "\n",
    "# Pendekatan 2: Span-level\n",
    "tp, fp, fn = 0, 0, 0  # true positive, false positive, false negative\n",
    "\n",
    "for text, annot in TEST_DATA:\n",
    "    doc = nlp(text)\n",
    "\n",
    "    # === BIO (token-level) ===\n",
    "    pred_bio = []\n",
    "    true_bio = [\"O\"] * len(doc)\n",
    "\n",
    "    # Prediksi ke dalam format BIO\n",
    "    for token in doc:\n",
    "        if token.ent_type_:\n",
    "            if token.ent_iob_ == \"B\":\n",
    "                pred_bio.append(f\"B-{token.ent_type_}\")\n",
    "            else:  # token.ent_iob_ == \"I\"\n",
    "                pred_bio.append(f\"I-{token.ent_type_}\")\n",
    "        else:\n",
    "            pred_bio.append(\"O\")\n",
    "\n",
    "    # Ground truth ke dalam format BIO\n",
    "    for start, end, label in annot[\"entities\"]:\n",
    "        for i, token in enumerate(doc):\n",
    "            if start <= token.idx < end:\n",
    "                if token.idx == start or (i > 0 and doc[i-1].idx < start):\n",
    "                    true_bio[i] = f\"B-{label}\"\n",
    "                else:\n",
    "                    true_bio[i] = f\"I-{label}\"\n",
    "\n",
    "    pred_entities_list.append(pred_bio)\n",
    "    true_entities_list.append(true_bio)\n",
    "\n",
    "    # === Span-level evaluation ===\n",
    "    gold_entities = set([(start, end, label) for start, end, label in annot[\"entities\"]])\n",
    "    pred_entities = set([(ent.start_char, ent.end_char, ent.label_) for ent in doc.ents])\n",
    "\n",
    "    tp += len(gold_entities & pred_entities)\n",
    "    fp += len(pred_entities - gold_entities)\n",
    "    fn += len(gold_entities - pred_entities)\n",
    "\n",
    "# ========== Hasil Evaluasi ==========\n",
    "print(\"\\n=== [Pendekatan 1] BIO Tagging dengan Seqeval ===\")\n",
    "print(seqeval_classification_report(true_entities_list, pred_entities_list))\n",
    "\n",
    "print(\"\\n=== [Pendekatan 2] Span-level Evaluation ===\")\n",
    "precision = tp / (tp + fp) if (tp + fp) > 0 else 0\n",
    "recall = tp / (tp + fn) if (tp + fn) > 0 else 0\n",
    "f1 = 2 * precision * recall / (precision + recall) if (precision + recall) > 0 else 0\n",
    "\n",
    "print(f\"Precision: {precision:.2f}\")\n",
    "print(f\"Recall   : {recall:.2f}\")\n",
    "print(f\"F1 Score : {f1:.2f}\")"
   ]
  }
 ],
 "metadata": {
  "kernelspec": {
   "display_name": "Python 3",
   "language": "python",
   "name": "python3"
  },
  "language_info": {
   "codemirror_mode": {
    "name": "ipython",
    "version": 3
   },
   "file_extension": ".py",
   "mimetype": "text/x-python",
   "name": "python",
   "nbconvert_exporter": "python",
   "pygments_lexer": "ipython3",
   "version": "3.12.1"
  }
 },
 "nbformat": 4,
 "nbformat_minor": 5
}
