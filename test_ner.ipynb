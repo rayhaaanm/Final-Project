{
 "cells": [
  {
   "cell_type": "code",
   "execution_count": 9,
   "id": "1ebaf996",
   "metadata": {},
   "outputs": [],
   "source": [
    "import spacy\n",
    "import json\n",
    "from sklearn.metrics import precision_score, recall_score, f1_score, classification_report\n",
    "from spacy.training.example import Example\n",
    "from seqeval.metrics import classification_report"
   ]
  },
  {
   "cell_type": "code",
   "execution_count": 10,
   "id": "97f20fa3",
   "metadata": {},
   "outputs": [
    {
     "name": "stdout",
     "output_type": "stream",
     "text": [
      "Model berhasil dimuat.\n"
     ]
    }
   ],
   "source": [
    "# Load model yang sudah dilatih\n",
    "model_path = \"models2/model_iter60\"\n",
    "nlp = spacy.load(model_path)\n",
    "print(\"Model berhasil dimuat.\")"
   ]
  },
  {
   "cell_type": "code",
   "execution_count": 11,
   "id": "28b1e2c5",
   "metadata": {},
   "outputs": [],
   "source": [
    "# 2. Load data test\n",
    "with open(\"data_test.json\", \"r\", encoding=\"utf-8\") as f:\n",
    "    data_json = json.load(f)\n",
    "    TEST_DATA = data_json[\"annotations\"]"
   ]
  },
  {
   "cell_type": "code",
   "execution_count": 12,
   "id": "05ade4d9",
   "metadata": {},
   "outputs": [
    {
     "name": "stdout",
     "output_type": "stream",
     "text": [
      "Hasil Evaluasi Model:\n",
      "              precision    recall  f1-score   support\n",
      "\n",
      "         APP       0.88      0.88      0.88       357\n",
      "        DESC       0.83      0.77      0.80       142\n",
      "\n",
      "   micro avg       0.87      0.85      0.86       499\n",
      "   macro avg       0.86      0.82      0.84       499\n",
      "weighted avg       0.87      0.85      0.86       499\n",
      "\n"
     ]
    }
   ],
   "source": [
    "# 3. Evaluasi model\n",
    "true_entities_list = []\n",
    "pred_entities_list = []\n",
    "\n",
    "for text, annot in TEST_DATA:\n",
    "    doc = nlp(text)\n",
    "    \n",
    "    # Konversi prediksi model ke format list tag per token\n",
    "    pred_entities = []\n",
    "    for token in doc:\n",
    "        if token.ent_type_:\n",
    "            # Gunakan skema BIO yang benar\n",
    "            if token.ent_iob_ == \"B\":\n",
    "                pred_entities.append(f\"B-{token.ent_type_}\")\n",
    "            else:  # token.ent_iob_ == \"I\"\n",
    "                pred_entities.append(f\"I-{token.ent_type_}\")\n",
    "        else:\n",
    "            pred_entities.append(\"O\")\n",
    "    \n",
    "    # Konversi ground truth ke format list tag per token\n",
    "    true_entities = [\"O\"] * len(doc)\n",
    "    for start, end, label in annot[\"entities\"]:\n",
    "        # Cari token yang sesuai dengan span entitas\n",
    "        for token_idx, token in enumerate(doc):\n",
    "            # Jika token ada dalam span entitas\n",
    "            if start <= token.idx < end:\n",
    "                # Token pertama dalam entitas\n",
    "                if token.idx == start or (token_idx > 0 and doc[token_idx-1].idx < start):\n",
    "                    true_entities[token_idx] = f\"B-{label}\"\n",
    "                else:\n",
    "                    true_entities[token_idx] = f\"I-{label}\"\n",
    "    \n",
    "    true_entities_list.append(true_entities)\n",
    "    pred_entities_list.append(pred_entities)\n",
    "\n",
    "# Evaluasi menggunakan seqeval\n",
    "print(\"Hasil Evaluasi Model:\")\n",
    "print(classification_report(true_entities_list, pred_entities_list))"
   ]
  }
 ],
 "metadata": {
  "kernelspec": {
   "display_name": "Python 3",
   "language": "python",
   "name": "python3"
  },
  "language_info": {
   "codemirror_mode": {
    "name": "ipython",
    "version": 3
   },
   "file_extension": ".py",
   "mimetype": "text/x-python",
   "name": "python",
   "nbconvert_exporter": "python",
   "pygments_lexer": "ipython3",
   "version": "3.12.1"
  }
 },
 "nbformat": 4,
 "nbformat_minor": 5
}
